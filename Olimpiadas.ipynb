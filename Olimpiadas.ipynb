{
  "nbformat": 4,
  "nbformat_minor": 0,
  "metadata": {
    "colab": {
      "name": "Olimpiadas.ipynb",
      "provenance": [],
      "collapsed_sections": [
        "_Gu52F7u7URX"
      ],
      "authorship_tag": "ABX9TyOCGHLQvNJ0J/2mfuzZMUWX",
      "include_colab_link": true
    },
    "kernelspec": {
      "name": "python3",
      "display_name": "Python 3"
    }
  },
  "cells": [
    {
      "cell_type": "markdown",
      "metadata": {
        "id": "view-in-github",
        "colab_type": "text"
      },
      "source": [
        "<a href=\"https://colab.research.google.com/github/luciansantana/olympic-games/blob/master/Olimpiadas.ipynb\" target=\"_parent\"><img src=\"https://colab.research.google.com/assets/colab-badge.svg\" alt=\"Open In Colab\"/></a>"
      ]
    },
    {
      "cell_type": "markdown",
      "metadata": {
        "id": "pDpT2WbGjAyw",
        "colab_type": "text"
      },
      "source": [
        "## O banco de dados utilizado neste notebook, se trata de informações dos atletas que disputaram os Jogos Olímpicos durante anos de 1986 a 2016."
      ]
    },
    {
      "cell_type": "markdown",
      "metadata": {
        "id": "IHbnOXFM7KrC",
        "colab_type": "text"
      },
      "source": [
        "# Importando bibliotecas"
      ]
    },
    {
      "cell_type": "code",
      "metadata": {
        "id": "jhvlEAMD2FCX",
        "colab_type": "code",
        "colab": {}
      },
      "source": [
        "import pandas as pd\n",
        "import numpy as np\n",
        "import numpy as np\n",
        "import matplotlib as plt\n",
        "import matplotlib.pyplot as plt \n"
      ],
      "execution_count": 0,
      "outputs": []
    },
    {
      "cell_type": "markdown",
      "metadata": {
        "id": "_Gu52F7u7URX",
        "colab_type": "text"
      },
      "source": [
        "# Lendo e conhecendo o banco de dados"
      ]
    },
    {
      "cell_type": "code",
      "metadata": {
        "id": "jT9-qRT27ZeY",
        "colab_type": "code",
        "outputId": "217e9aba-1e25-4187-b9dd-ed500a94fcae",
        "colab": {
          "base_uri": "https://localhost:8080/",
          "height": 428
        }
      },
      "source": [
        "athlets = pd.read_csv(\"https://raw.githubusercontent.com/luciansantana/olympic-games/master/athlete_events.csv?token=AO27OWE4WTSMJ7U6ALCDJXC63LZV4\")\n",
        "athlets.head()"
      ],
      "execution_count": 0,
      "outputs": [
        {
          "output_type": "execute_result",
          "data": {
            "text/html": [
              "<div>\n",
              "<style scoped>\n",
              "    .dataframe tbody tr th:only-of-type {\n",
              "        vertical-align: middle;\n",
              "    }\n",
              "\n",
              "    .dataframe tbody tr th {\n",
              "        vertical-align: top;\n",
              "    }\n",
              "\n",
              "    .dataframe thead th {\n",
              "        text-align: right;\n",
              "    }\n",
              "</style>\n",
              "<table border=\"1\" class=\"dataframe\">\n",
              "  <thead>\n",
              "    <tr style=\"text-align: right;\">\n",
              "      <th></th>\n",
              "      <th>ID</th>\n",
              "      <th>Name</th>\n",
              "      <th>Sex</th>\n",
              "      <th>Age</th>\n",
              "      <th>Height</th>\n",
              "      <th>Weight</th>\n",
              "      <th>Team</th>\n",
              "      <th>NOC</th>\n",
              "      <th>Games</th>\n",
              "      <th>Year</th>\n",
              "      <th>Season</th>\n",
              "      <th>City</th>\n",
              "      <th>Sport</th>\n",
              "      <th>Event</th>\n",
              "      <th>Medal</th>\n",
              "    </tr>\n",
              "  </thead>\n",
              "  <tbody>\n",
              "    <tr>\n",
              "      <th>0</th>\n",
              "      <td>1</td>\n",
              "      <td>A Dijiang</td>\n",
              "      <td>M</td>\n",
              "      <td>24.0</td>\n",
              "      <td>180.0</td>\n",
              "      <td>80.0</td>\n",
              "      <td>China</td>\n",
              "      <td>CHN</td>\n",
              "      <td>1992 Summer</td>\n",
              "      <td>1992</td>\n",
              "      <td>Summer</td>\n",
              "      <td>Barcelona</td>\n",
              "      <td>Basketball</td>\n",
              "      <td>Basketball Men's Basketball</td>\n",
              "      <td>NaN</td>\n",
              "    </tr>\n",
              "    <tr>\n",
              "      <th>1</th>\n",
              "      <td>2</td>\n",
              "      <td>A Lamusi</td>\n",
              "      <td>M</td>\n",
              "      <td>23.0</td>\n",
              "      <td>170.0</td>\n",
              "      <td>60.0</td>\n",
              "      <td>China</td>\n",
              "      <td>CHN</td>\n",
              "      <td>2012 Summer</td>\n",
              "      <td>2012</td>\n",
              "      <td>Summer</td>\n",
              "      <td>London</td>\n",
              "      <td>Judo</td>\n",
              "      <td>Judo Men's Extra-Lightweight</td>\n",
              "      <td>NaN</td>\n",
              "    </tr>\n",
              "    <tr>\n",
              "      <th>2</th>\n",
              "      <td>3</td>\n",
              "      <td>Gunnar Nielsen Aaby</td>\n",
              "      <td>M</td>\n",
              "      <td>24.0</td>\n",
              "      <td>NaN</td>\n",
              "      <td>NaN</td>\n",
              "      <td>Denmark</td>\n",
              "      <td>DEN</td>\n",
              "      <td>1920 Summer</td>\n",
              "      <td>1920</td>\n",
              "      <td>Summer</td>\n",
              "      <td>Antwerpen</td>\n",
              "      <td>Football</td>\n",
              "      <td>Football Men's Football</td>\n",
              "      <td>NaN</td>\n",
              "    </tr>\n",
              "    <tr>\n",
              "      <th>3</th>\n",
              "      <td>4</td>\n",
              "      <td>Edgar Lindenau Aabye</td>\n",
              "      <td>M</td>\n",
              "      <td>34.0</td>\n",
              "      <td>NaN</td>\n",
              "      <td>NaN</td>\n",
              "      <td>Denmark/Sweden</td>\n",
              "      <td>DEN</td>\n",
              "      <td>1900 Summer</td>\n",
              "      <td>1900</td>\n",
              "      <td>Summer</td>\n",
              "      <td>Paris</td>\n",
              "      <td>Tug-Of-War</td>\n",
              "      <td>Tug-Of-War Men's Tug-Of-War</td>\n",
              "      <td>Gold</td>\n",
              "    </tr>\n",
              "    <tr>\n",
              "      <th>4</th>\n",
              "      <td>5</td>\n",
              "      <td>Christine Jacoba Aaftink</td>\n",
              "      <td>F</td>\n",
              "      <td>21.0</td>\n",
              "      <td>185.0</td>\n",
              "      <td>82.0</td>\n",
              "      <td>Netherlands</td>\n",
              "      <td>NED</td>\n",
              "      <td>1988 Winter</td>\n",
              "      <td>1988</td>\n",
              "      <td>Winter</td>\n",
              "      <td>Calgary</td>\n",
              "      <td>Speed Skating</td>\n",
              "      <td>Speed Skating Women's 500 metres</td>\n",
              "      <td>NaN</td>\n",
              "    </tr>\n",
              "  </tbody>\n",
              "</table>\n",
              "</div>"
            ],
            "text/plain": [
              "   ID                      Name  ...                             Event  Medal\n",
              "0   1                 A Dijiang  ...       Basketball Men's Basketball    NaN\n",
              "1   2                  A Lamusi  ...      Judo Men's Extra-Lightweight    NaN\n",
              "2   3       Gunnar Nielsen Aaby  ...           Football Men's Football    NaN\n",
              "3   4      Edgar Lindenau Aabye  ...       Tug-Of-War Men's Tug-Of-War   Gold\n",
              "4   5  Christine Jacoba Aaftink  ...  Speed Skating Women's 500 metres    NaN\n",
              "\n",
              "[5 rows x 15 columns]"
            ]
          },
          "metadata": {
            "tags": []
          },
          "execution_count": 2
        }
      ]
    },
    {
      "cell_type": "markdown",
      "metadata": {
        "id": "5PpHAVFDUPVZ",
        "colab_type": "text"
      },
      "source": [
        "Temos então uma tabela em que mostra total de medalhas conquistadas por atleta em cada nação."
      ]
    },
    {
      "cell_type": "code",
      "metadata": {
        "id": "l9dCAycB-Li8",
        "colab_type": "code",
        "outputId": "f06cf3d8-b6e9-40e0-879f-ce0cb4edf7fd",
        "colab": {
          "base_uri": "https://localhost:8080/",
          "height": 221
        }
      },
      "source": [
        "medalist = athlets.dropna(subset = [\"Medal\"])\n",
        "medalist['Team'].value_counts()"
      ],
      "execution_count": 0,
      "outputs": [
        {
          "output_type": "execute_result",
          "data": {
            "text/plain": [
              "United States    5219\n",
              "Soviet Union     2451\n",
              "Germany          1984\n",
              "Great Britain    1673\n",
              "France           1550\n",
              "                 ... \n",
              "Rostock             1\n",
              "Bermuda             1\n",
              "Turquoise-1         1\n",
              "Sudan               1\n",
              "Nepal               1\n",
              "Name: Team, Length: 498, dtype: int64"
            ]
          },
          "metadata": {
            "tags": []
          },
          "execution_count": 11
        }
      ]
    },
    {
      "cell_type": "code",
      "metadata": {
        "id": "Q6nOxvLkECFg",
        "colab_type": "code",
        "outputId": "20929f2d-5e33-4969-8e6f-e9df4705239b",
        "colab": {
          "base_uri": "https://localhost:8080/",
          "height": 329
        }
      },
      "source": [
        "medalist['Team'].value_counts()[:20].plot(kind ='barh',figsize = (22,8))"
      ],
      "execution_count": 0,
      "outputs": [
        {
          "output_type": "execute_result",
          "data": {
            "text/plain": [
              "<matplotlib.axes._subplots.AxesSubplot at 0x7f4ca10bd518>"
            ]
          },
          "metadata": {
            "tags": []
          },
          "execution_count": 8
        },
        {
          "output_type": "display_data",
          "data": {
            "image/png": "[encoded data removed]",
            "text/plain": [
              "<Figure size 1584x576 with 1 Axes>"
            ]
          },
          "metadata": {
            "tags": [],
            "needs_background": "light"
          }
        }
      ]
    },
    {
      "cell_type": "markdown",
      "metadata": {
        "id": "M4hgBIR-Gm_e",
        "colab_type": "text"
      },
      "source": [
        "Vale destacar a soberania da nação americana diantes os outros. Outro ressalva em função com a unidade fedarativa Rússia, por questões politicas e historicas, a nação disputou em momentos diferentes da história com dois nomes em vigencia: Russia(RUS) e Soviet Unian(URS)."
      ]
    },
    {
      "cell_type": "markdown",
      "metadata": {
        "id": "HouS-fA-kHvs",
        "colab_type": "text"
      },
      "source": [
        "Houve então, um agrupamento dos atletas que levam o nome de Soviet Union e Russia, para Russia Federation"
      ]
    },
    {
      "cell_type": "code",
      "metadata": {
        "id": "6O5rHv3K5HDp",
        "colab_type": "code",
        "colab": {}
      },
      "source": [
        "athlets['Team'] = athlets['Team'].replace(to_replace = ['Soviet Union','Russia'],value = 'Russia Federation')\n",
        "athlets['NOC'] = athlets['NOC'].replace(to_replace = ['URS'],value = 'RUS')\n"
      ],
      "execution_count": 0,
      "outputs": []
    },
    {
      "cell_type": "code",
      "metadata": {
        "id": "IomttPKVkyx4",
        "colab_type": "code",
        "outputId": "8f65f47d-56da-4771-d005-c23527d25929",
        "colab": {
          "base_uri": "https://localhost:8080/",
          "height": 221
        }
      },
      "source": [
        "medalist['Team'].value_counts()"
      ],
      "execution_count": 0,
      "outputs": [
        {
          "output_type": "execute_result",
          "data": {
            "text/plain": [
              "United States        5219\n",
              "Russia Federation    3561\n",
              "Germany              1984\n",
              "Great Britain        1673\n",
              "France               1550\n",
              "                     ... \n",
              "Clearwater              1\n",
              "Cicely-1                1\n",
              "Sudan                   1\n",
              "England                 1\n",
              "Senegal                 1\n",
              "Name: Team, Length: 497, dtype: int64"
            ]
          },
          "metadata": {
            "tags": []
          },
          "execution_count": 284
        }
      ]
    },
    {
      "cell_type": "code",
      "metadata": {
        "id": "WNUt-yjOjVLC",
        "colab_type": "code",
        "outputId": "1caeca05-5caa-4959-d304-6e282b11b232",
        "colab": {
          "base_uri": "https://localhost:8080/",
          "height": 282
        }
      },
      "source": [
        "medalist['Team'].value_counts()[:20].plot(kind = 'barh',figsize = (22,8))"
      ],
      "execution_count": 0,
      "outputs": [
        {
          "output_type": "execute_result",
          "data": {
            "text/plain": [
              "<matplotlib.axes._subplots.AxesSubplot at 0x7f7db2335ef0>"
            ]
          },
          "metadata": {
            "tags": []
          },
          "execution_count": 285
        },
        {
          "output_type": "display_data",
          "data": {
            "image/png": "[encoded data removed]",
            "text/plain": [
              "<Figure size 432x288 with 1 Axes>"
            ]
          },
          "metadata": {
            "tags": [],
            "needs_background": "light"
          }
        }
      ]
    },
    {
      "cell_type": "markdown",
      "metadata": {
        "id": "ugTlPB3mkbco",
        "colab_type": "text"
      },
      "source": [
        "Com isso a União Federativa da Rússia chegando a 3561 atletas com medalhas conquistadas, 1658 a menos que o Estados Unidos e 1577 a mais que a Alemanha "
      ]
    },
    {
      "cell_type": "code",
      "metadata": {
        "id": "t8Ot7WlEqMfz",
        "colab_type": "code",
        "outputId": "aac3c1a2-1572-4b11-b76d-75402b48e3bc",
        "colab": {
          "base_uri": "https://localhost:8080/",
          "height": 374
        }
      },
      "source": [
        "athlets['City'].value_counts()[:20]"
      ],
      "execution_count": 0,
      "outputs": [
        {
          "output_type": "execute_result",
          "data": {
            "text/plain": [
              "London            22426\n",
              "Athina            15556\n",
              "Sydney            13821\n",
              "Atlanta           13780\n",
              "Rio de Janeiro    13688\n",
              "Beijing           13602\n",
              "Barcelona         12977\n",
              "Los Angeles       12423\n",
              "Seoul             12037\n",
              "Munich            10304\n",
              "Montreal           8641\n",
              "Mexico City        8588\n",
              "Helsinki           8270\n",
              "Roma               8119\n",
              "Tokyo              7702\n",
              "Moskva             7191\n",
              "Paris              7169\n",
              "Berlin             6506\n",
              "Amsterdam          4992\n",
              "Sochi              4891\n",
              "Name: City, dtype: int64"
            ]
          },
          "metadata": {
            "tags": []
          },
          "execution_count": 289
        }
      ]
    },
    {
      "cell_type": "markdown",
      "metadata": {
        "id": "LR4TSbNFrmtO",
        "colab_type": "text"
      },
      "source": [
        " A cidade em que mais foi palco de atrações olímpicas foi Londres (Inglaterra), e em seguida Athina (Grécia) e Sidney (Austrália)"
      ]
    },
    {
      "cell_type": "code",
      "metadata": {
        "id": "cPANR1RYu_e4",
        "colab_type": "code",
        "outputId": "92374008-f6cb-4ddc-d8a5-2a651949ca5e",
        "colab": {
          "base_uri": "https://localhost:8080/",
          "height": 305
        }
      },
      "source": [
        "medalist['Name'].value_counts()[:10].plot(kind = 'barh',figsize = (22,8))"
      ],
      "execution_count": 0,
      "outputs": [
        {
          "output_type": "execute_result",
          "data": {
            "text/plain": [
              "<matplotlib.axes._subplots.AxesSubplot at 0x7f7db2121128>"
            ]
          },
          "metadata": {
            "tags": []
          },
          "execution_count": 294
        },
        {
          "output_type": "display_data",
          "data": {
            "image/png": "[encoded data removed]",
            "text/plain": [
              "<Figure size 1584x576 with 1 Axes>"
            ]
          },
          "metadata": {
            "tags": [],
            "needs_background": "light"
          }
        }
      ]
    },
    {
      "cell_type": "markdown",
      "metadata": {
        "id": "RyQR9D2rwjjz",
        "colab_type": "text"
      },
      "source": [
        "O atleta com mais medalhas na historia das olimpiadas, é Michael Fred Phelps, nadador que até então se encontra aposentado. Disputou as olimpiadas entre as edições de 2000 a 2016"
      ]
    },
    {
      "cell_type": "code",
      "metadata": {
        "id": "SGRRvu_KxE2c",
        "colab_type": "code",
        "outputId": "a908a508-efa6-41d9-dea1-7e3687b6b333",
        "colab": {
          "base_uri": "https://localhost:8080/",
          "height": 85
        }
      },
      "source": [
        "phelps = athlets[athlets['Name']=='Michael Fred Phelps, II']\n",
        "phelps['Medal'].value_counts()"
      ],
      "execution_count": 0,
      "outputs": [
        {
          "output_type": "execute_result",
          "data": {
            "text/plain": [
              "Gold      23\n",
              "Silver     3\n",
              "Bronze     2\n",
              "Name: Medal, dtype: int64"
            ]
          },
          "metadata": {
            "tags": []
          },
          "execution_count": 300
        }
      ]
    },
    {
      "cell_type": "markdown",
      "metadata": {
        "id": "M9pdFM8kxzKO",
        "colab_type": "text"
      },
      "source": [
        "Michael Phelps disputou 30 medalhas, e conquistou 28 medalhas, o que mostra acaba mostrando a eficiencia do atleta americano. Das medalhas conquistadas, 23 são de ouro, o que representa o total de 82.14%."
      ]
    },
    {
      "cell_type": "markdown",
      "metadata": {
        "id": "E7kV0PFWFNla",
        "colab_type": "text"
      },
      "source": [
        "# Análise histórica"
      ]
    },
    {
      "cell_type": "markdown",
      "metadata": {
        "id": "bRAQHTM3xSjb",
        "colab_type": "text"
      },
      "source": [
        "Como os dados estão por atletas, foi preciso criar funções que conseguissem captar a quantidade de medalhas conquistadas pela nação, mas nestas funções foi constatado a quantidade de medalhas por eventos, pois pegando os dados apenas por atleta, dois atletas diferentes poderiam ganhar a mesma medalha devido aos esportes coletivos. Com isso vamos trabalhar a partir de agora com os dados conquistados por eventos. Exemplo, Event: 'Bobsleigh Men's Four'"
      ]
    },
    {
      "cell_type": "code",
      "metadata": {
        "id": "C7U9fe-l8eP-",
        "colab_type": "code",
        "colab": {}
      },
      "source": [
        "def medalseason(noc):\n",
        "  data0 = athlets[athlets['NOC']==noc]\n",
        "  datax = athlets[athlets['Season']=='Summer']\n",
        "  #datax = athlets\n",
        "  data0 = data0[data0['Season']=='Summer']\n",
        "  data0_med = data0.dropna(subset = ['Medal'])\n",
        "  year = datax.Year.unique()\n",
        "  year = sorted(year)\n",
        "  data2 = []\n",
        "  for i in year:\n",
        "    data1 = data0_med[data0_med['Year']==i]\n",
        "    medalhas = data1.Medal.unique()\n",
        "    medal2 = []\n",
        "    for j in medalhas:\n",
        "      medal0 = data1[data1['Medal']==j]\n",
        "      medal1 = medal0.Event.unique().shape[0]\n",
        "      medal2.append(medal1)\n",
        "    soma = sum(medal2)\n",
        "    data2.append(soma)\n",
        "  nomes = [noc]*len(year)\n",
        "  obj = {'Year': year,'Medals' : data2,'NOC': [noc]*len(year)}\n",
        "  data3 = pd.DataFrame(obj)\n",
        "\n",
        "  return data3\n",
        "def medalacum(noc):\n",
        "  data0 = medalseason(noc)\n",
        "  tamanho = range(1,data0.shape[0])\n",
        "  #tamanho = range(1,len(data0))\n",
        "  data1 = data0['Medals']\n",
        "  for j in tamanho:\n",
        "     #data0.iloc[j][1] = data0.iloc[j][1]+data0.iloc[j-1][1]\n",
        "     data1[j]= data1[j]+data1[j-1]\n",
        "  data0['Medals']=data1\n",
        "  return data0\n",
        "\n",
        "def geralacum():\n",
        "  noc = athlets.NOC.unique()\n",
        "  noc = sorted(noc)\n",
        "  anos = athlets[athlets['Season']=='Summer']\n",
        "  anos = anos.Year.unique()\n",
        "  anos = sorted(anos)\n",
        "  data1 = pd.DataFrame()\n",
        "  for i in noc:\n",
        "    data = medalacum(i)\n",
        "    data = pd.DataFrame(data)\n",
        "    data1 = pd.concat([data1,data],axis = 0)\n",
        "  #data1.columns = noc\n",
        "  #data1.index = anos\n",
        "  return data1\n",
        "def geralseason():\n",
        "  noc = athlets.NOC.unique()\n",
        "  noc = sorted(noc)\n",
        "  anos = athlets[athlets['Season']=='Summer']\n",
        "  anos = anos.Year.unique()\n",
        "  anos = sorted(anos)\n",
        "  data1 = pd.DataFrame()\n",
        "  for i in noc:\n",
        "    data = medalseason(i)\n",
        "    data = pd.DataFrame(data)\n",
        "    data1 = pd.concat([data1,data],axis = 0)\n",
        "  #data1.columns = noc\n",
        "  #data1.index = anos\n",
        "  return data1"
      ],
      "execution_count": 0,
      "outputs": []
    },
    {
      "cell_type": "code",
      "metadata": {
        "id": "zOAZqeZABxTe",
        "colab_type": "code",
        "colab": {}
      },
      "source": [
        "tabelacum = geralacum()\n",
        "tabelasea = geralseason()"
      ],
      "execution_count": 0,
      "outputs": []
    },
    {
      "cell_type": "code",
      "metadata": {
        "id": "HkGjq953zZ2y",
        "colab_type": "code",
        "outputId": "285ddc19-3f11-40a9-9b4e-697c25a05862",
        "colab": {
          "base_uri": "https://localhost:8080/",
          "height": 282
        }
      },
      "source": [
        "bra = tabelacum[tabelacum['NOC']=='BRA']\n",
        "bra = bra.drop(['NOC'],axis = 1)\n",
        "bra_index = bra.set_index(['Year'])\n",
        "plt.plot(bra_index)"
      ],
      "execution_count": 23,
      "outputs": [
        {
          "output_type": "execute_result",
          "data": {
            "text/plain": [
              "[<matplotlib.lines.Line2D at 0x7fc1b8221390>]"
            ]
          },
          "metadata": {
            "tags": []
          },
          "execution_count": 23
        },
        {
          "output_type": "display_data",
          "data": {
            "image/png": "[encoded data removed]",
            "text/plain": [
              "<Figure size 432x288 with 1 Axes>"
            ]
          },
          "metadata": {
            "tags": [],
            "needs_background": "light"
          }
        }
      ]
    },
    {
      "cell_type": "code",
      "metadata": {
        "id": "Iu46HIXd_p7l",
        "colab_type": "code",
        "colab": {}
      },
      "source": [
        "a = pd.read_excel(\"https://github.com/luciansantana/olympic-games/blob/master/NYGDPPCAPKDBRA.xls?raw=true\")"
      ],
      "execution_count": 0,
      "outputs": []
    },
    {
      "cell_type": "code",
      "metadata": {
        "id": "IvWvg1MPC8it",
        "colab_type": "code",
        "colab": {
          "base_uri": "https://localhost:8080/",
          "height": 282
        },
        "outputId": "82a1e99e-a9a3-48c8-f898-35bb6e422985"
      },
      "source": [
        "linha = range(10,68)\n",
        "#for i in linha:\n",
        "#  print(a.loc[i])\n",
        "#a = a.loc[10:68]\n",
        "a.columns = ['Year','PIB per capita']\n",
        "brazil_index = a.set_index(['Year'])\n",
        "plt.plot(brazil_index)\n",
        "#plt.plot(bra_index)"
      ],
      "execution_count": 43,
      "outputs": [
        {
          "output_type": "execute_result",
          "data": {
            "text/plain": [
              "[<matplotlib.lines.Line2D at 0x7fc1b5c09828>]"
            ]
          },
          "metadata": {
            "tags": []
          },
          "execution_count": 43
        },
        {
          "output_type": "display_data",
          "data": {
            "image/png": "[encoded data removed]",
            "text/plain": [
              "<Figure size 432x288 with 1 Axes>"
            ]
          },
          "metadata": {
            "tags": [],
            "needs_background": "light"
          }
        }
      ]
    },
    {
      "cell_type": "code",
      "metadata": {
        "id": "grxKY9-sMiiE",
        "colab_type": "code",
        "colab": {
          "base_uri": "https://localhost:8080/",
          "height": 282
        },
        "outputId": "edf1a3fb-b3a4-4705-dd90-1e0bbe311b49"
      },
      "source": [
        "plt.plot(bra_index)"
      ],
      "execution_count": 45,
      "outputs": [
        {
          "output_type": "execute_result",
          "data": {
            "text/plain": [
              "[<matplotlib.lines.Line2D at 0x7fc1b5b0fc50>]"
            ]
          },
          "metadata": {
            "tags": []
          },
          "execution_count": 45
        },
        {
          "output_type": "display_data",
          "data": {
            "image/png": "[encoded data removed]",
            "text/plain": [
              "<Figure size 432x288 with 1 Axes>"
            ]
          },
          "metadata": {
            "tags": [],
            "needs_background": "light"
          }
        }
      ]
    },
    {
      "cell_type": "code",
      "metadata": {
        "id": "BOYmisAlNR5W",
        "colab_type": "code",
        "colab": {
          "base_uri": "https://localhost:8080/",
          "height": 34
        },
        "outputId": "454d4381-9689-4b75-a54b-9480fc4ffd20"
      },
      "source": [
        "brazil_index.iloc[1][0]"
      ],
      "execution_count": 51,
      "outputs": [
        {
          "output_type": "execute_result",
          "data": {
            "text/plain": [
              "3660.39149911126"
            ]
          },
          "metadata": {
            "tags": []
          },
          "execution_count": 51
        }
      ]
    },
    {
      "cell_type": "code",
      "metadata": {
        "id": "ju7HSBz_M7QZ",
        "colab_type": "code",
        "colab": {
          "base_uri": "https://localhost:8080/",
          "height": 71
        },
        "outputId": "5ba350c4-ab66-4ba0-eaeb-950103b805a6"
      },
      "source": [
        "sequencia = range(0,60,4)\n",
        "valor = []\n",
        "for i in sequencia:\n",
        "  valor1 = brazil_index.iloc[i][0]\n",
        "  valor.append(valor1)\n",
        "print(valor)\n",
        "len(valor)"
      ],
      "execution_count": 68,
      "outputs": [
        {
          "output_type": "stream",
          "text": [
            "[3417.35244190971, 3685.49289177482, 4147.38172722123, 5587.88625565948, 7296.34748425015, 8349.48782019185, 7442.97241093524, 8276.32686747308, 7791.75742548499, 8591.01470912416, 8803.15252917931, 9346.03934316368, 10710.8722205603, 11745.7759262897, 10965.9742614391]\n"
          ],
          "name": "stdout"
        },
        {
          "output_type": "execute_result",
          "data": {
            "text/plain": [
              "15"
            ]
          },
          "metadata": {
            "tags": []
          },
          "execution_count": 68
        }
      ]
    },
    {
      "cell_type": "code",
      "metadata": {
        "id": "7ZSADzR5PL_Z",
        "colab_type": "code",
        "colab": {
          "base_uri": "https://localhost:8080/",
          "height": 233
        },
        "outputId": "1fea2e48-b379-4bef-8ff3-b745be74a35b"
      },
      "source": [
        "bra_ajustado = bra_index[bra_index.index >=1960]\n",
        "bra_ajustado['PIB per capita'] = valor\n",
        "#bra_ajustado.plot.scatter(x = 'Medals',y = 'PIB per capita')\n",
        "bra_ajustado.corr()"
      ],
      "execution_count": 77,
      "outputs": [
        {
          "output_type": "stream",
          "text": [
            "/usr/local/lib/python3.6/dist-packages/ipykernel_launcher.py:2: SettingWithCopyWarning: \n",
            "A value is trying to be set on a copy of a slice from a DataFrame.\n",
            "Try using .loc[row_indexer,col_indexer] = value instead\n",
            "\n",
            "See the caveats in the documentation: https://pandas.pydata.org/pandas-docs/stable/user_guide/indexing.html#returning-a-view-versus-a-copy\n",
            "  \n"
          ],
          "name": "stderr"
        },
        {
          "output_type": "execute_result",
          "data": {
            "text/html": [
              "<div>\n",
              "<style scoped>\n",
              "    .dataframe tbody tr th:only-of-type {\n",
              "        vertical-align: middle;\n",
              "    }\n",
              "\n",
              "    .dataframe tbody tr th {\n",
              "        vertical-align: top;\n",
              "    }\n",
              "\n",
              "    .dataframe thead th {\n",
              "        text-align: right;\n",
              "    }\n",
              "</style>\n",
              "<table border=\"1\" class=\"dataframe\">\n",
              "  <thead>\n",
              "    <tr style=\"text-align: right;\">\n",
              "      <th></th>\n",
              "      <th>Medals</th>\n",
              "      <th>PIB per capita</th>\n",
              "    </tr>\n",
              "  </thead>\n",
              "  <tbody>\n",
              "    <tr>\n",
              "      <th>Medals</th>\n",
              "      <td>1.000000</td>\n",
              "      <td>0.874024</td>\n",
              "    </tr>\n",
              "    <tr>\n",
              "      <th>PIB per capita</th>\n",
              "      <td>0.874024</td>\n",
              "      <td>1.000000</td>\n",
              "    </tr>\n",
              "  </tbody>\n",
              "</table>\n",
              "</div>"
            ],
            "text/plain": [
              "                  Medals  PIB per capita\n",
              "Medals          1.000000        0.874024\n",
              "PIB per capita  0.874024        1.000000"
            ]
          },
          "metadata": {
            "tags": []
          },
          "execution_count": 77
        }
      ]
    },
    {
      "cell_type": "code",
      "metadata": {
        "id": "TXxOXSJqN2xh",
        "colab_type": "code",
        "colab": {}
      },
      "source": [
        "from sklearn.linear_model import LinearRegression\n",
        "from sklearn.preprocessing import StandardScaler\n",
        "from sklearn.linear_model import LogisticRegression, Perceptron, PassiveAggressiveClassifier\n",
        "from sklearn.neighbors import KNeighborsClassifier\n",
        "from sklearn.tree import DecisionTreeClassifier\n",
        "from sklearn.discriminant_analysis import LinearDiscriminantAnalysis, QuadraticDiscriminantAnalysis\n",
        "from sklearn.ensemble import RandomTreesEmbedding, ExtraTreesClassifier, RandomForestClassifier, BaggingClassifier, AdaBoostClassifier, GradientBoostingClassifier, VotingClassifier\n",
        "from sklearn.svm import SVC\n",
        "from sklearn.naive_bayes import GaussianNB\n",
        "from sklearn.neural_network import MLPClassifier\n",
        "from sklearn.dummy import DummyClassifier\n",
        "from sklearn.preprocessing import StandardScaler\n",
        "from sklearn.model_selection import cross_val_score \n",
        "\n",
        "from time import time, sleep"
      ],
      "execution_count": 0,
      "outputs": []
    },
    {
      "cell_type": "code",
      "metadata": {
        "id": "Db6ApbKwVL6J",
        "colab_type": "code",
        "colab": {
          "base_uri": "https://localhost:8080/",
          "height": 170
        },
        "outputId": "31672b7b-5d78-4336-c6b5-9d49f2956b3e"
      },
      "source": [
        ""
      ],
      "execution_count": 91,
      "outputs": [
        {
          "output_type": "stream",
          "text": [
            "<class 'pandas.core.frame.DataFrame'>\n",
            "Int64Index: 15 entries, 1960 to 2016\n",
            "Data columns (total 2 columns):\n",
            " #   Column          Non-Null Count  Dtype  \n",
            "---  ------          --------------  -----  \n",
            " 0   Medals          15 non-null     int64  \n",
            " 1   PIB per capita  15 non-null     float64\n",
            "dtypes: float64(1), int64(1)\n",
            "memory usage: 360.0 bytes\n"
          ],
          "name": "stdout"
        }
      ]
    },
    {
      "cell_type": "code",
      "metadata": {
        "id": "ZMs1fIiNUAXF",
        "colab_type": "code",
        "colab": {
          "base_uri": "https://localhost:8080/",
          "height": 312
        },
        "outputId": "867f781f-f718-4a95-fbef-a8f9b17fa6ae"
      },
      "source": [
        "X = bra_ajustado['PIB per capita'].values\n",
        "sc = StandardScaler()\n",
        "X = X.reshape(-1,1)\n",
        "y = bra_ajustado['Medals'].values\n",
        "regressor = LinearRegression()\n",
        "regressor.fit(X,y)\n",
        "regressor.coef_\n",
        "regressor.intercept_\n",
        "plt.scatter(X,y)\n",
        "plt.plot(X,regressor.predict(X),color = 'red')\n",
        "plt.title('Regressão Linear Simples')\n",
        "plt.xlabel('PIB per capita')\n",
        "plt.ylabel('Medals')"
      ],
      "execution_count": 95,
      "outputs": [
        {
          "output_type": "execute_result",
          "data": {
            "text/plain": [
              "Text(0, 0.5, 'Medals')"
            ]
          },
          "metadata": {
            "tags": []
          },
          "execution_count": 95
        },
        {
          "output_type": "display_data",
          "data": {
            "image/png": "[encoded data removed]",
            "text/plain": [
              "<Figure size 432x288 with 1 Axes>"
            ]
          },
          "metadata": {
            "tags": [],
            "needs_background": "light"
          }
        }
      ]
    }
  ]
}