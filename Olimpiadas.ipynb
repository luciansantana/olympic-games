{
  "nbformat": 4,
  "nbformat_minor": 0,
  "metadata": {
    "colab": {
      "name": "Olimpiadas.ipynb",
      "provenance": [],
      "private_outputs": true,
      "collapsed_sections": [],
      "authorship_tag": "ABX9TyMz5J1fDS8Yj2vsZURJe1ne",
      "include_colab_link": true
    },
    "kernelspec": {
      "name": "python3",
      "display_name": "Python 3"
    }
  },
  "cells": [
    {
      "cell_type": "markdown",
      "metadata": {
        "id": "view-in-github",
        "colab_type": "text"
      },
      "source": [
        "<a href=\"https://colab.research.google.com/github/luciansantana/olympic-games/blob/master/Olimpiadas.ipynb\" target=\"_parent\"><img src=\"https://colab.research.google.com/assets/colab-badge.svg\" alt=\"Open In Colab\"/></a>"
      ]
    },
    {
      "cell_type": "markdown",
      "metadata": {
        "id": "pDpT2WbGjAyw",
        "colab_type": "text"
      },
      "source": [
        "## O banco de dados utilizado neste notebook, se trata de informações dos atletas que disputaram os Jogos Olímpicos durante anos de 1986 a 2016."
      ]
    },
    {
      "cell_type": "markdown",
      "metadata": {
        "id": "IHbnOXFM7KrC",
        "colab_type": "text"
      },
      "source": [
        "# Importando bibliotecas"
      ]
    },
    {
      "cell_type": "code",
      "metadata": {
        "id": "jhvlEAMD2FCX",
        "colab_type": "code",
        "colab": {}
      },
      "source": [
        "import pandas as pd\n",
        "import numpy as np\n",
        "import seaborn as sns\n",
        "\n",
        "import matplotlib as plt\n",
        "import matplotlib.pyplot as plt\n",
        "from sklearn.model_selection import train_test_split \n",
        "from sklearn.linear_model import LinearRegression\n",
        "from sklearn.preprocessing import StandardScaler\n",
        "import statsmodels.api as sm\n",
        "from sklearn import neighbors\n",
        "from sklearn.metrics import mean_squared_error \n",
        "from math import sqrt"
      ],
      "execution_count": null,
      "outputs": []
    },
    {
      "cell_type": "markdown",
      "metadata": {
        "id": "_Gu52F7u7URX",
        "colab_type": "text"
      },
      "source": [
        "# Lendo e conhecendo o banco de dados"
      ]
    },
    {
      "cell_type": "code",
      "metadata": {
        "id": "jT9-qRT27ZeY",
        "colab_type": "code",
        "colab": {}
      },
      "source": [
        "athlets = pd.read_csv(\"https://raw.githubusercontent.com/luciansantana/olympic-games/master/athlete_events.csv?token=AO27OWE4WTSMJ7U6ALCDJXC63LZV4\")\n",
        "athlets.head()"
      ],
      "execution_count": null,
      "outputs": []
    },
    {
      "cell_type": "markdown",
      "metadata": {
        "id": "5PpHAVFDUPVZ",
        "colab_type": "text"
      },
      "source": [
        "Temos então uma tabela em que mostra total de medalhas conquistadas por atleta em cada nação."
      ]
    },
    {
      "cell_type": "code",
      "metadata": {
        "id": "l9dCAycB-Li8",
        "colab_type": "code",
        "colab": {}
      },
      "source": [
        "medalist = athlets.dropna(subset = [\"Medal\"])\n",
        "medalist['Team'].value_counts()"
      ],
      "execution_count": null,
      "outputs": []
    },
    {
      "cell_type": "code",
      "metadata": {
        "id": "Q6nOxvLkECFg",
        "colab_type": "code",
        "colab": {}
      },
      "source": [
        "medalist['Team'].value_counts()[:20].plot(kind ='barh',figsize = (22,8))"
      ],
      "execution_count": null,
      "outputs": []
    },
    {
      "cell_type": "markdown",
      "metadata": {
        "id": "M4hgBIR-Gm_e",
        "colab_type": "text"
      },
      "source": [
        "Vale destacar a soberania da nação americana diantes os outros. Outro ressalva em função com a Federação da Rússia, por questões politicas e historicas, a nação disputou em momentos diferentes da história com dois nomes em vigencia: Russia(RUS) e Soviet Unian(URS)."
      ]
    },
    {
      "cell_type": "markdown",
      "metadata": {
        "id": "HouS-fA-kHvs",
        "colab_type": "text"
      },
      "source": [
        "Houve então, um agrupamento dos atletas que levam o nome de Soviet Union e Russia, para Russia Federation"
      ]
    },
    {
      "cell_type": "code",
      "metadata": {
        "id": "6O5rHv3K5HDp",
        "colab_type": "code",
        "colab": {}
      },
      "source": [
        "#athlets['Team'] = athlets['Team'].replace(to_replace = ['Soviet Union','Russia'],value = 'Russia Federation')\n",
        "#athlets['NOC'] = athlets['NOC'].replace(to_replace = ['URS'],value = 'RUS')\n"
      ],
      "execution_count": null,
      "outputs": []
    },
    {
      "cell_type": "markdown",
      "metadata": {
        "id": "ugTlPB3mkbco",
        "colab_type": "text"
      },
      "source": [
        "Com isso a União Federativa da Rússia chegando a 3668 atletas com medalhas conquistadas, 1969 a menos que o Estados Unidos e 1503 a mais que a Alemanha "
      ]
    },
    {
      "cell_type": "code",
      "metadata": {
        "id": "ecx7xLMfxhAT",
        "colab_type": "code",
        "colab": {}
      },
      "source": [
        "medalist_ajus = athlets.dropna(subset=['Medal'])\n",
        "medalist_ajus['NOC'].value_counts()[:10]"
      ],
      "execution_count": null,
      "outputs": []
    },
    {
      "cell_type": "code",
      "metadata": {
        "id": "t8Ot7WlEqMfz",
        "colab_type": "code",
        "colab": {}
      },
      "source": [
        "athlets['City'].value_counts()[:20]"
      ],
      "execution_count": null,
      "outputs": []
    },
    {
      "cell_type": "markdown",
      "metadata": {
        "id": "LR4TSbNFrmtO",
        "colab_type": "text"
      },
      "source": [
        " A cidade em que mais foi palco de atrações olímpicas foi Londres (Inglaterra), e em seguida Athina (Grécia) e Sidney (Austrália)"
      ]
    },
    {
      "cell_type": "code",
      "metadata": {
        "id": "cPANR1RYu_e4",
        "colab_type": "code",
        "colab": {}
      },
      "source": [
        "medalist['Name'].value_counts()[:10].plot(kind = 'barh',figsize = (22,8))"
      ],
      "execution_count": null,
      "outputs": []
    },
    {
      "cell_type": "markdown",
      "metadata": {
        "id": "RyQR9D2rwjjz",
        "colab_type": "text"
      },
      "source": [
        "O atleta com mais medalhas na historia das olimpiadas, é Michael Fred Phelps, nadador que até então se encontra aposentado. Disputou as olimpiadas entre as edições de 2000 a 2016"
      ]
    },
    {
      "cell_type": "code",
      "metadata": {
        "id": "SGRRvu_KxE2c",
        "colab_type": "code",
        "colab": {}
      },
      "source": [
        "phelps = athlets[athlets['Name']=='Michael Fred Phelps, II']\n",
        "phelps['Medal'].value_counts()"
      ],
      "execution_count": null,
      "outputs": []
    },
    {
      "cell_type": "markdown",
      "metadata": {
        "id": "M9pdFM8kxzKO",
        "colab_type": "text"
      },
      "source": [
        "Michael Phelps disputou 30 medalhas, e conquistou 28 medalhas, o que mostra acaba mostrando a eficiencia do atleta americano. Das medalhas conquistadas, 23 são de ouro, o que representa o total de 82.14%."
      ]
    },
    {
      "cell_type": "markdown",
      "metadata": {
        "id": "E7kV0PFWFNla",
        "colab_type": "text"
      },
      "source": [
        "# Análise histórica"
      ]
    },
    {
      "cell_type": "markdown",
      "metadata": {
        "id": "bRAQHTM3xSjb",
        "colab_type": "text"
      },
      "source": [
        "Como os dados estão dispostos por atletas, foi preciso criar funções que conseguissem captar a quantidade de medalhas conquistadas pela nação, mas nestas funções foi constatado a quantidade de medalhas por eventos, pois utilizando os dados apenas por atleta ou por esporte, dois atletas diferentes poderiam ganhar a mesma medalha devido aos esportes coletivos, e assim inflando a quantidade de medalhas, com isso nações que são mais vencedoras nos esportes coletivos levariam vantagem no quesito medalhas. Com isso vamos trabalhar a partir de agora com os dados conquistados por eventos."
      ]
    },
    {
      "cell_type": "code",
      "metadata": {
        "id": "C7U9fe-l8eP-",
        "colab_type": "code",
        "colab": {}
      },
      "source": [
        "def medalseason(noc):\n",
        "  data0 = athlets[athlets['NOC']==noc]\n",
        "  datax = athlets[athlets['Season']=='Summer']\n",
        "  #datax = athlets\n",
        "  data0 = data0[data0['Season']=='Summer']\n",
        "  data0_med = data0.dropna(subset = ['Medal'])\n",
        "  year = datax.Year.unique()\n",
        "  year = sorted(year)\n",
        "  data2 = []\n",
        "  numero1 = []\n",
        "  for i in year:\n",
        "    data1 = data0_med[data0_med['Year']==i]\n",
        "    datax = data0[data0['Year']==i]\n",
        "    medalhas = data1.Medal.unique()\n",
        "    numero = len(datax.Name.unique())\n",
        "    numero1.append(numero)\n",
        "    medal2 = []\n",
        "    for j in medalhas:\n",
        "      medal0 = data1[data1['Medal']==j]\n",
        "      medal1 = medal0.Event.unique().shape[0]\n",
        "      medal2.append(medal1)\n",
        "    soma = sum(medal2)\n",
        "    data2.append(soma)\n",
        "  nomes = [noc]*len(year)\n",
        "  obj = {'Year': year,'Medals' : data2,'NOC': [noc]*len(year),'Number' : numero1}\n",
        "  data3 = pd.DataFrame(obj)\n",
        "\n",
        "  return data3\n",
        "def medalacum(noc):\n",
        "  data0 = medalseason(noc)\n",
        "  tamanho = range(1,data0.shape[0])\n",
        "  #tamanho = range(1,len(data0))\n",
        "  data1 = data0['Medals']\n",
        "  data2 = data0['Number']\n",
        "  for j in tamanho:\n",
        "     #data0.iloc[j][1] = data0.iloc[j][1]+data0.iloc[j-1][1]\n",
        "     data1[j]= data1[j]+data1[j-1]\n",
        "     data2[j]= data2[j]+data2[j-1]\n",
        "  data0['Medals']=data1\n",
        "  data0['Number']=data2\n",
        "  return data0\n",
        "\n",
        "def geralacum():\n",
        "  noc = athlets.NOC.unique()\n",
        "  noc = sorted(noc)\n",
        "  anos = athlets[athlets['Season']=='Summer']\n",
        "  anos = anos.Year.unique()\n",
        "  anos = sorted(anos)\n",
        "  data1 = pd.DataFrame()\n",
        "  for i in noc:\n",
        "    data = medalacum(i)\n",
        "    data = pd.DataFrame(data)\n",
        "    data1 = pd.concat([data1,data],axis = 0)\n",
        "  #data1.columns = noc\n",
        "  #data1.index = anos\n",
        "  return data1\n",
        "def geralseason():\n",
        "  noc = athlets.NOC.unique()\n",
        "  noc = sorted(noc)\n",
        "  anos = athlets[athlets['Season']=='Summer']\n",
        "  anos = anos.Year.unique()\n",
        "  anos = sorted(anos)\n",
        "  data1 = pd.DataFrame()\n",
        "  for i in noc:\n",
        "    data = medalseason(i)\n",
        "    data = pd.DataFrame(data)\n",
        "    data1 = pd.concat([data1,data],axis = 0)\n",
        "  #data1.columns = noc\n",
        "  #data1.index = anos\n",
        "  return data1"
      ],
      "execution_count": null,
      "outputs": []
    },
    {
      "cell_type": "markdown",
      "metadata": {
        "id": "xPnf7j9PvlIn",
        "colab_type": "text"
      },
      "source": [
        "Um exemplo de como as funções retornam:"
      ]
    },
    {
      "cell_type": "code",
      "metadata": {
        "id": "zOAZqeZABxTe",
        "colab_type": "code",
        "colab": {}
      },
      "source": [
        "tabelacum = geralacum()\n",
        "tabelasea = geralseason()"
      ],
      "execution_count": null,
      "outputs": []
    },
    {
      "cell_type": "markdown",
      "metadata": {
        "id": "FTCjXCAhb2i5",
        "colab_type": "text"
      },
      "source": [
        "Temos a lista então das nações que mais conquistaram medalhas."
      ]
    },
    {
      "cell_type": "code",
      "metadata": {
        "id": "XHlzM_fySgll",
        "colab_type": "code",
        "colab": {}
      },
      "source": [
        "quadro_geral = tabelasea.groupby(['NOC'])['Medals'].apply(lambda x : x.astype('float').sum()).sort_values(ascending = False)[:10]\n",
        "noc = sorted(quadro_geral.index)\n",
        "plt.figure(figsize = (22,8))\n",
        "for i in noc:\n",
        "\n",
        "  teste0 = tabelacum[tabelacum['NOC']==i]\n",
        "  teste1 = teste0.set_index(['Year'])\n",
        "  teste2 = teste1[['Medals']]\n",
        "  plt.plot( teste2,label = i)\n",
        "  plt.ylabel('Medalhas')\n",
        "  plt.xlabel('Anos')\n",
        "  plt.legend()"
      ],
      "execution_count": null,
      "outputs": []
    },
    {
      "cell_type": "code",
      "metadata": {
        "id": "BpLYZSI_0BEv",
        "colab_type": "code",
        "colab": {}
      },
      "source": [
        "quadro_geral = tabelasea.groupby(['NOC'])['Medals'].apply(lambda x : x.astype('float').sum()).sort_values(ascending = False)[:10]\n",
        "noc = sorted(quadro_geral.index)\n",
        "plt.figure(figsize = (22,8))\n",
        "for i in noc:\n",
        "  teste0 = tabelasea[tabelasea['NOC']==i]\n",
        "  teste1 = teste0.set_index(['Year'])\n",
        "  teste2 = teste1[['Medals']]\n",
        "  plt.scatter(x = teste0['Year'] ,y = teste2['Medals'], label = i,s = 200)\n",
        "  plt.ylabel('Medalhas')\n",
        "  plt.xlabel('Anos')\n",
        "  plt.legend()"
      ],
      "execution_count": null,
      "outputs": []
    },
    {
      "cell_type": "code",
      "metadata": {
        "id": "SysJvlFWBXRi",
        "colab_type": "code",
        "colab": {}
      },
      "source": [
        "barra = tabelasea[tabelasea['Number']!=0]\n",
        "barra = barra[barra['NOC']!='EUN']\n",
        "barra_1 = barra.groupby(['NOC'])['Number'].apply(lambda x : x.astype('float').mean()).sort_values(ascending = False)[:10]\n",
        "barra_1 = pd.DataFrame(barra_1)\n",
        "noc1 = barra_1.index\n",
        "plt.figure(figsize = (22,8))\n",
        "plt.bar(noc1,barra_1['Number'])\n",
        "plt.ylabel('Média de partipantes')\n",
        "plt.xlabel('Nações')\n"
      ],
      "execution_count": null,
      "outputs": []
    },
    {
      "cell_type": "code",
      "metadata": {
        "id": "YDR2M03-ZnVF",
        "colab_type": "code",
        "colab": {}
      },
      "source": [
        "data_prop = tabelacum\n",
        "data_prop['prop'] = data_prop['Medals']/data_prop['Number']\n",
        "x = data_prop[data_prop['Year']==2016]\n",
        "x = x[x['Number']>1000]\n",
        "x_1 = x.sort_values('prop',ascending=False)[:10]\n",
        "noc = sorted(x_1['NOC'])\n",
        "plt.figure(figsize=(22,8))\n",
        "plt.bar(x_1['NOC'],x_1['prop'])"
      ],
      "execution_count": null,
      "outputs": []
    },
    {
      "cell_type": "markdown",
      "metadata": {
        "id": "NhedRK-i0j2Y",
        "colab_type": "text"
      },
      "source": [
        "Utilizamos então as 10 nações +Brasil para fazer a analise e depois fazer uma estimação via regressão linear para cada uma das delas. Começamos então com um gráfico onde mostra a evolução ao longo das edições do número de medalhas acumuladas."
      ]
    },
    {
      "cell_type": "markdown",
      "metadata": {
        "id": "RTYjuLFzWh_X",
        "colab_type": "text"
      },
      "source": [
        "# BRASIL"
      ]
    },
    {
      "cell_type": "markdown",
      "metadata": {
        "id": "J0HKVqbuWhpZ",
        "colab_type": "text"
      },
      "source": [
        ""
      ]
    },
    {
      "cell_type": "markdown",
      "metadata": {
        "id": "yPleGEH0WhYS",
        "colab_type": "text"
      },
      "source": [
        ""
      ]
    },
    {
      "cell_type": "markdown",
      "metadata": {
        "id": "WLUzntt61QOs",
        "colab_type": "text"
      },
      "source": [
        "## Regressão linear"
      ]
    },
    {
      "cell_type": "code",
      "metadata": {
        "id": "pmeMKv3X-ZJJ",
        "colab_type": "code",
        "colab": {}
      },
      "source": [
        "from sklearn.preprocessing import MinMaxScaler\n",
        "economy =  pd.read_csv(\"https://raw.githubusercontent.com/luciansantana/olympic-games/master/economy.csv\")\n",
        "economy = economy[economy['Nacao']=='BRA']\n",
        "bra_season = tabelasea[tabelasea['NOC']=='BRA']\n",
        "bra_season = bra_season[bra_season['Year']>=1960]\n",
        "bra_season['PIB.per.capita'] = economy['PIB.per.capita'].values"
      ],
      "execution_count": null,
      "outputs": []
    },
    {
      "cell_type": "code",
      "metadata": {
        "id": "oGxeZAP8m72F",
        "colab_type": "code",
        "colab": {}
      },
      "source": [
        "trein = bra_season.drop(columns=['Year','NOC'])\n",
        "X = trein.iloc[:,1:].values\n",
        "Y = trein.iloc[:,:1].values"
      ],
      "execution_count": null,
      "outputs": []
    },
    {
      "cell_type": "code",
      "metadata": {
        "id": "gxXzQvRTDXNL",
        "colab_type": "code",
        "colab": {}
      },
      "source": [
        "modelo0 = LinearRegression()\n",
        "modelo0.fit(X,Y)\n",
        "mean_squared_error(Y,modelo0.predict(X))"
      ],
      "execution_count": null,
      "outputs": []
    },
    {
      "cell_type": "code",
      "metadata": {
        "id": "pewxP-HGwKWI",
        "colab_type": "code",
        "colab": {}
      },
      "source": [
        "modelo0.predict(X)"
      ],
      "execution_count": null,
      "outputs": []
    },
    {
      "cell_type": "code",
      "metadata": {
        "id": "ONmlLhSgHFUl",
        "colab_type": "code",
        "colab": {}
      },
      "source": [
        "modelo1 = sm.OLS(Y,X)\n",
        "modelo1 = modelo1.fit()\n",
        "mean_squared_error(Y,modelo1.predict(X))"
      ],
      "execution_count": null,
      "outputs": []
    }
  ]
}