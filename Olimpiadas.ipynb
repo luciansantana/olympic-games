{
  "nbformat": 4,
  "nbformat_minor": 0,
  "metadata": {
    "colab": {
      "name": "Olimpiadas.ipynb",
      "provenance": [],
      "collapsed_sections": [],
      "authorship_tag": "ABX9TyM8SqwOJDkm+eFe7ty8VBCR",
      "include_colab_link": true
    },
    "kernelspec": {
      "name": "python3",
      "display_name": "Python 3"
    }
  },
  "cells": [
    {
      "cell_type": "markdown",
      "metadata": {
        "id": "view-in-github",
        "colab_type": "text"
      },
      "source": [
        "<a href=\"https://colab.research.google.com/github/luciansantana/olympic-games/blob/master/Olimpiadas.ipynb\" target=\"_parent\"><img src=\"https://colab.research.google.com/assets/colab-badge.svg\" alt=\"Open In Colab\"/></a>"
      ]
    },
    {
      "cell_type": "markdown",
      "metadata": {
        "id": "pDpT2WbGjAyw",
        "colab_type": "text"
      },
      "source": [
        "## O banco de dados utilizado neste notebook, se trata de informações dos atletas que disputaram os Jogos Olímpicos durante anos de 1986 a 2016."
      ]
    },
    {
      "cell_type": "markdown",
      "metadata": {
        "id": "IHbnOXFM7KrC",
        "colab_type": "text"
      },
      "source": [
        "# Importando bibliotecas"
      ]
    },
    {
      "cell_type": "code",
      "metadata": {
        "id": "jhvlEAMD2FCX",
        "colab_type": "code",
        "colab": {}
      },
      "source": [
        "import pandas as pd\n",
        "import numpy as np\n",
        "import numpy as np\n",
        "import matplotlib as plt\n",
        "import matplotlib.pyplot as plt \n"
      ],
      "execution_count": 0,
      "outputs": []
    },
    {
      "cell_type": "markdown",
      "metadata": {
        "id": "_Gu52F7u7URX",
        "colab_type": "text"
      },
      "source": [
        "# Lendo e conhecendo o banco de dados"
      ]
    },
    {
      "cell_type": "code",
      "metadata": {
        "id": "jT9-qRT27ZeY",
        "colab_type": "code",
        "colab": {}
      },
      "source": [
        "athlets = pd.read_csv(\"https://raw.githubusercontent.com/luciansantana/olympic-games/master/athlete_events.csv?token=AO27OWE4WTSMJ7U6ALCDJXC63LZV4\")\n",
        "athlets.head()"
      ],
      "execution_count": 0,
      "outputs": []
    },
    {
      "cell_type": "markdown",
      "metadata": {
        "id": "5PpHAVFDUPVZ",
        "colab_type": "text"
      },
      "source": [
        "Temos então uma tabela em que mostra total de medalhas conquistadas por atleta em cada nação."
      ]
    },
    {
      "cell_type": "code",
      "metadata": {
        "id": "l9dCAycB-Li8",
        "colab_type": "code",
        "colab": {}
      },
      "source": [
        "medalist = athlets.dropna(subset = [\"Medal\"])\n",
        "medalist['Team'].value_counts()"
      ],
      "execution_count": 0,
      "outputs": []
    },
    {
      "cell_type": "code",
      "metadata": {
        "id": "Q6nOxvLkECFg",
        "colab_type": "code",
        "colab": {}
      },
      "source": [
        "medalist['Team'].value_counts()[:20].plot(kind ='barh',figsize = (22,8))"
      ],
      "execution_count": 0,
      "outputs": []
    },
    {
      "cell_type": "markdown",
      "metadata": {
        "id": "M4hgBIR-Gm_e",
        "colab_type": "text"
      },
      "source": [
        "Vale destacar a soberania da nação americana diantes os outros. Outro ressalva em função com a unidade fedarativa Rússia, por questões politicas e historicas, a nação disputou em momentos diferentes da história com dois nomes em vigencia: Russia(RUS) e Soviet Unian(URS)."
      ]
    },
    {
      "cell_type": "markdown",
      "metadata": {
        "id": "HouS-fA-kHvs",
        "colab_type": "text"
      },
      "source": [
        "Houve então, um agrupamento dos atletas que levam o nome de Soviet Union e Russia, para Russia Federation"
      ]
    },
    {
      "cell_type": "code",
      "metadata": {
        "id": "6O5rHv3K5HDp",
        "colab_type": "code",
        "colab": {}
      },
      "source": [
        "athlets['Team'] = athlets['Team'].replace(to_replace = ['Soviet Union','Russia'],value = 'Russia Federation')\n",
        "athlets['NOC'] = athlets['NOC'].replace(to_replace = ['URS'],value = 'RUS')\n"
      ],
      "execution_count": 0,
      "outputs": []
    },
    {
      "cell_type": "code",
      "metadata": {
        "id": "IomttPKVkyx4",
        "colab_type": "code",
        "colab": {}
      },
      "source": [
        "medalist['Team'].value_counts()"
      ],
      "execution_count": 0,
      "outputs": []
    },
    {
      "cell_type": "code",
      "metadata": {
        "id": "WNUt-yjOjVLC",
        "colab_type": "code",
        "colab": {}
      },
      "source": [
        "medalist['Team'].value_counts()[:20].plot(kind = 'barh',figsize = (22,8))"
      ],
      "execution_count": 0,
      "outputs": []
    },
    {
      "cell_type": "markdown",
      "metadata": {
        "id": "ugTlPB3mkbco",
        "colab_type": "text"
      },
      "source": [
        "Com isso a União Federativa da Rússia chegando a 3561 atletas com medalhas conquistadas, 1658 a menos que o Estados Unidos e 1577 a mais que a Alemanha "
      ]
    },
    {
      "cell_type": "code",
      "metadata": {
        "id": "t8Ot7WlEqMfz",
        "colab_type": "code",
        "colab": {}
      },
      "source": [
        "athlets['City'].value_counts()[:20]"
      ],
      "execution_count": 0,
      "outputs": []
    },
    {
      "cell_type": "markdown",
      "metadata": {
        "id": "LR4TSbNFrmtO",
        "colab_type": "text"
      },
      "source": [
        " A cidade em que mais foi palco de atrações olímpicas foi Londres (Inglaterra), e em seguida Athina (Grécia) e Sidney (Austrália)"
      ]
    },
    {
      "cell_type": "code",
      "metadata": {
        "id": "cPANR1RYu_e4",
        "colab_type": "code",
        "colab": {}
      },
      "source": [
        "medalist['Name'].value_counts()[:10].plot(kind = 'barh',figsize = (22,8))"
      ],
      "execution_count": 0,
      "outputs": []
    },
    {
      "cell_type": "markdown",
      "metadata": {
        "id": "RyQR9D2rwjjz",
        "colab_type": "text"
      },
      "source": [
        "O atleta com mais medalhas na historia das olimpiadas, é Michael Fred Phelps, nadador que até então se encontra aposentado. Disputou as olimpiadas entre as edições de 2000 a 2016"
      ]
    },
    {
      "cell_type": "code",
      "metadata": {
        "id": "SGRRvu_KxE2c",
        "colab_type": "code",
        "colab": {}
      },
      "source": [
        "phelps = athlets[athlets['Name']=='Michael Fred Phelps, II']\n",
        "phelps['Medal'].value_counts()"
      ],
      "execution_count": 0,
      "outputs": []
    },
    {
      "cell_type": "markdown",
      "metadata": {
        "id": "M9pdFM8kxzKO",
        "colab_type": "text"
      },
      "source": [
        "Michael Phelps disputou 30 medalhas, e conquistou 28 medalhas, o que mostra acaba mostrando a eficiencia do atleta americano. Das medalhas conquistadas, 23 são de ouro, o que representa o total de 82.14%."
      ]
    },
    {
      "cell_type": "markdown",
      "metadata": {
        "id": "E7kV0PFWFNla",
        "colab_type": "text"
      },
      "source": [
        "# Análise histórica"
      ]
    },
    {
      "cell_type": "markdown",
      "metadata": {
        "id": "bRAQHTM3xSjb",
        "colab_type": "text"
      },
      "source": [
        "Como os dados estão por atletas, foi preciso criar funções que conseguissem captar a quantidade de medalhas conquistadas pela nação, mas nestas funções foi constatado a quantidade de medalhas por eventos, pois pegando os dados apenas por atleta, dois atletas diferentes poderiam ganhar a mesma medalha devido aos esportes coletivos. Com isso vamos trabalhar a partir de agora com os dados conquistados por eventos. Exemplo, Event: 'Bobsleigh Men's Four'"
      ]
    },
    {
      "cell_type": "code",
      "metadata": {
        "id": "Pyzbpe6IkhwT",
        "colab_type": "code",
        "colab": {
          "base_uri": "https://localhost:8080/",
          "height": 948
        },
        "outputId": "fda73518-16d7-4c72-844c-27e95cffe6d7"
      },
      "source": [
        "medalseason('BRA')"
      ],
      "execution_count": 70,
      "outputs": [
        {
          "output_type": "execute_result",
          "data": {
            "text/html": [
              "<div>\n",
              "<style scoped>\n",
              "    .dataframe tbody tr th:only-of-type {\n",
              "        vertical-align: middle;\n",
              "    }\n",
              "\n",
              "    .dataframe tbody tr th {\n",
              "        vertical-align: top;\n",
              "    }\n",
              "\n",
              "    .dataframe thead th {\n",
              "        text-align: right;\n",
              "    }\n",
              "</style>\n",
              "<table border=\"1\" class=\"dataframe\">\n",
              "  <thead>\n",
              "    <tr style=\"text-align: right;\">\n",
              "      <th></th>\n",
              "      <th>Year</th>\n",
              "      <th>Medals</th>\n",
              "      <th>NOC</th>\n",
              "      <th>Number</th>\n",
              "    </tr>\n",
              "  </thead>\n",
              "  <tbody>\n",
              "    <tr>\n",
              "      <th>0</th>\n",
              "      <td>1896</td>\n",
              "      <td>0</td>\n",
              "      <td>BRA</td>\n",
              "      <td>0</td>\n",
              "    </tr>\n",
              "    <tr>\n",
              "      <th>1</th>\n",
              "      <td>1900</td>\n",
              "      <td>0</td>\n",
              "      <td>BRA</td>\n",
              "      <td>1</td>\n",
              "    </tr>\n",
              "    <tr>\n",
              "      <th>2</th>\n",
              "      <td>1904</td>\n",
              "      <td>0</td>\n",
              "      <td>BRA</td>\n",
              "      <td>0</td>\n",
              "    </tr>\n",
              "    <tr>\n",
              "      <th>3</th>\n",
              "      <td>1906</td>\n",
              "      <td>0</td>\n",
              "      <td>BRA</td>\n",
              "      <td>0</td>\n",
              "    </tr>\n",
              "    <tr>\n",
              "      <th>4</th>\n",
              "      <td>1908</td>\n",
              "      <td>0</td>\n",
              "      <td>BRA</td>\n",
              "      <td>0</td>\n",
              "    </tr>\n",
              "    <tr>\n",
              "      <th>5</th>\n",
              "      <td>1912</td>\n",
              "      <td>0</td>\n",
              "      <td>BRA</td>\n",
              "      <td>0</td>\n",
              "    </tr>\n",
              "    <tr>\n",
              "      <th>6</th>\n",
              "      <td>1920</td>\n",
              "      <td>3</td>\n",
              "      <td>BRA</td>\n",
              "      <td>19</td>\n",
              "    </tr>\n",
              "    <tr>\n",
              "      <th>7</th>\n",
              "      <td>1924</td>\n",
              "      <td>0</td>\n",
              "      <td>BRA</td>\n",
              "      <td>12</td>\n",
              "    </tr>\n",
              "    <tr>\n",
              "      <th>8</th>\n",
              "      <td>1928</td>\n",
              "      <td>0</td>\n",
              "      <td>BRA</td>\n",
              "      <td>0</td>\n",
              "    </tr>\n",
              "    <tr>\n",
              "      <th>9</th>\n",
              "      <td>1932</td>\n",
              "      <td>0</td>\n",
              "      <td>BRA</td>\n",
              "      <td>59</td>\n",
              "    </tr>\n",
              "    <tr>\n",
              "      <th>10</th>\n",
              "      <td>1936</td>\n",
              "      <td>0</td>\n",
              "      <td>BRA</td>\n",
              "      <td>73</td>\n",
              "    </tr>\n",
              "    <tr>\n",
              "      <th>11</th>\n",
              "      <td>1948</td>\n",
              "      <td>1</td>\n",
              "      <td>BRA</td>\n",
              "      <td>70</td>\n",
              "    </tr>\n",
              "    <tr>\n",
              "      <th>12</th>\n",
              "      <td>1952</td>\n",
              "      <td>3</td>\n",
              "      <td>BRA</td>\n",
              "      <td>97</td>\n",
              "    </tr>\n",
              "    <tr>\n",
              "      <th>13</th>\n",
              "      <td>1956</td>\n",
              "      <td>1</td>\n",
              "      <td>BRA</td>\n",
              "      <td>47</td>\n",
              "    </tr>\n",
              "    <tr>\n",
              "      <th>14</th>\n",
              "      <td>1960</td>\n",
              "      <td>2</td>\n",
              "      <td>BRA</td>\n",
              "      <td>72</td>\n",
              "    </tr>\n",
              "    <tr>\n",
              "      <th>15</th>\n",
              "      <td>1964</td>\n",
              "      <td>1</td>\n",
              "      <td>BRA</td>\n",
              "      <td>61</td>\n",
              "    </tr>\n",
              "    <tr>\n",
              "      <th>16</th>\n",
              "      <td>1968</td>\n",
              "      <td>3</td>\n",
              "      <td>BRA</td>\n",
              "      <td>76</td>\n",
              "    </tr>\n",
              "    <tr>\n",
              "      <th>17</th>\n",
              "      <td>1972</td>\n",
              "      <td>2</td>\n",
              "      <td>BRA</td>\n",
              "      <td>81</td>\n",
              "    </tr>\n",
              "    <tr>\n",
              "      <th>18</th>\n",
              "      <td>1976</td>\n",
              "      <td>2</td>\n",
              "      <td>BRA</td>\n",
              "      <td>79</td>\n",
              "    </tr>\n",
              "    <tr>\n",
              "      <th>19</th>\n",
              "      <td>1980</td>\n",
              "      <td>4</td>\n",
              "      <td>BRA</td>\n",
              "      <td>106</td>\n",
              "    </tr>\n",
              "    <tr>\n",
              "      <th>20</th>\n",
              "      <td>1984</td>\n",
              "      <td>8</td>\n",
              "      <td>BRA</td>\n",
              "      <td>147</td>\n",
              "    </tr>\n",
              "    <tr>\n",
              "      <th>21</th>\n",
              "      <td>1988</td>\n",
              "      <td>6</td>\n",
              "      <td>BRA</td>\n",
              "      <td>160</td>\n",
              "    </tr>\n",
              "    <tr>\n",
              "      <th>22</th>\n",
              "      <td>1992</td>\n",
              "      <td>3</td>\n",
              "      <td>BRA</td>\n",
              "      <td>182</td>\n",
              "    </tr>\n",
              "    <tr>\n",
              "      <th>23</th>\n",
              "      <td>1996</td>\n",
              "      <td>15</td>\n",
              "      <td>BRA</td>\n",
              "      <td>221</td>\n",
              "    </tr>\n",
              "    <tr>\n",
              "      <th>24</th>\n",
              "      <td>2000</td>\n",
              "      <td>12</td>\n",
              "      <td>BRA</td>\n",
              "      <td>198</td>\n",
              "    </tr>\n",
              "    <tr>\n",
              "      <th>25</th>\n",
              "      <td>2004</td>\n",
              "      <td>10</td>\n",
              "      <td>BRA</td>\n",
              "      <td>243</td>\n",
              "    </tr>\n",
              "    <tr>\n",
              "      <th>26</th>\n",
              "      <td>2008</td>\n",
              "      <td>16</td>\n",
              "      <td>BRA</td>\n",
              "      <td>268</td>\n",
              "    </tr>\n",
              "    <tr>\n",
              "      <th>27</th>\n",
              "      <td>2012</td>\n",
              "      <td>17</td>\n",
              "      <td>BRA</td>\n",
              "      <td>248</td>\n",
              "    </tr>\n",
              "    <tr>\n",
              "      <th>28</th>\n",
              "      <td>2016</td>\n",
              "      <td>19</td>\n",
              "      <td>BRA</td>\n",
              "      <td>462</td>\n",
              "    </tr>\n",
              "  </tbody>\n",
              "</table>\n",
              "</div>"
            ],
            "text/plain": [
              "    Year  Medals  NOC  Number\n",
              "0   1896       0  BRA       0\n",
              "1   1900       0  BRA       1\n",
              "2   1904       0  BRA       0\n",
              "3   1906       0  BRA       0\n",
              "4   1908       0  BRA       0\n",
              "5   1912       0  BRA       0\n",
              "6   1920       3  BRA      19\n",
              "7   1924       0  BRA      12\n",
              "8   1928       0  BRA       0\n",
              "9   1932       0  BRA      59\n",
              "10  1936       0  BRA      73\n",
              "11  1948       1  BRA      70\n",
              "12  1952       3  BRA      97\n",
              "13  1956       1  BRA      47\n",
              "14  1960       2  BRA      72\n",
              "15  1964       1  BRA      61\n",
              "16  1968       3  BRA      76\n",
              "17  1972       2  BRA      81\n",
              "18  1976       2  BRA      79\n",
              "19  1980       4  BRA     106\n",
              "20  1984       8  BRA     147\n",
              "21  1988       6  BRA     160\n",
              "22  1992       3  BRA     182\n",
              "23  1996      15  BRA     221\n",
              "24  2000      12  BRA     198\n",
              "25  2004      10  BRA     243\n",
              "26  2008      16  BRA     268\n",
              "27  2012      17  BRA     248\n",
              "28  2016      19  BRA     462"
            ]
          },
          "metadata": {
            "tags": []
          },
          "execution_count": 70
        }
      ]
    },
    {
      "cell_type": "code",
      "metadata": {
        "id": "C7U9fe-l8eP-",
        "colab_type": "code",
        "colab": {}
      },
      "source": [
        "def medalseason(noc):\n",
        "  data0 = athlets[athlets['NOC']==noc]\n",
        "  datax = athlets[athlets['Season']=='Summer']\n",
        "  #datax = athlets\n",
        "  data0 = data0[data0['Season']=='Summer']\n",
        "  data0_med = data0.dropna(subset = ['Medal'])\n",
        "  year = datax.Year.unique()\n",
        "  year = sorted(year)\n",
        "  data2 = []\n",
        "  numero1 = []\n",
        "  for i in year:\n",
        "    data1 = data0_med[data0_med['Year']==i]\n",
        "    datax = data0[data0['Year']==i]\n",
        "    medalhas = data1.Medal.unique()\n",
        "    numero = len(datax.Name.unique())\n",
        "    numero1.append(numero)\n",
        "    medal2 = []\n",
        "    for j in medalhas:\n",
        "      medal0 = data1[data1['Medal']==j]\n",
        "      medal1 = medal0.Event.unique().shape[0]\n",
        "      medal2.append(medal1)\n",
        "    soma = sum(medal2)\n",
        "    data2.append(soma)\n",
        "  nomes = [noc]*len(year)\n",
        "  obj = {'Year': year,'Medals' : data2,'NOC': [noc]*len(year),'Number' : numero1}\n",
        "  data3 = pd.DataFrame(obj)\n",
        "\n",
        "  return data3\n",
        "def medalacum(noc):\n",
        "  data0 = medalseason(noc)\n",
        "  tamanho = range(1,data0.shape[0])\n",
        "  #tamanho = range(1,len(data0))\n",
        "  data1 = data0['Medals']\n",
        "  for j in tamanho:\n",
        "     #data0.iloc[j][1] = data0.iloc[j][1]+data0.iloc[j-1][1]\n",
        "     data1[j]= data1[j]+data1[j-1]\n",
        "  data0['Medals']=data1\n",
        "  return data0\n",
        "\n",
        "def geralacum():\n",
        "  noc = athlets.NOC.unique()\n",
        "  noc = sorted(noc)\n",
        "  anos = athlets[athlets['Season']=='Summer']\n",
        "  anos = anos.Year.unique()\n",
        "  anos = sorted(anos)\n",
        "  data1 = pd.DataFrame()\n",
        "  for i in noc:\n",
        "    data = medalacum(i)\n",
        "    data = pd.DataFrame(data)\n",
        "    data1 = pd.concat([data1,data],axis = 0)\n",
        "  #data1.columns = noc\n",
        "  #data1.index = anos\n",
        "  return data1\n",
        "def geralseason():\n",
        "  noc = athlets.NOC.unique()\n",
        "  noc = sorted(noc)\n",
        "  anos = athlets[athlets['Season']=='Summer']\n",
        "  anos = anos.Year.unique()\n",
        "  anos = sorted(anos)\n",
        "  data1 = pd.DataFrame()\n",
        "  for i in noc:\n",
        "    data = medalseason(i)\n",
        "    data = pd.DataFrame(data)\n",
        "    data1 = pd.concat([data1,data],axis = 0)\n",
        "  #data1.columns = noc\n",
        "  #data1.index = anos\n",
        "  return data1"
      ],
      "execution_count": 0,
      "outputs": []
    },
    {
      "cell_type": "code",
      "metadata": {
        "id": "zOAZqeZABxTe",
        "colab_type": "code",
        "colab": {
          "base_uri": "https://localhost:8080/",
          "height": 105
        },
        "outputId": "f3873f36-efdc-465f-8044-70842ac2a482"
      },
      "source": [
        "tabelacum = geralacum()\n",
        "tabelasea = geralseason()"
      ],
      "execution_count": 71,
      "outputs": [
        {
          "output_type": "stream",
          "text": [
            "/usr/local/lib/python3.6/dist-packages/ipykernel_launcher.py:36: SettingWithCopyWarning: \n",
            "A value is trying to be set on a copy of a slice from a DataFrame\n",
            "\n",
            "See the caveats in the documentation: https://pandas.pydata.org/pandas-docs/stable/user_guide/indexing.html#returning-a-view-versus-a-copy\n"
          ],
          "name": "stderr"
        }
      ]
    },
    {
      "cell_type": "code",
      "metadata": {
        "id": "Z9lN4u2Pmy_d",
        "colab_type": "code",
        "colab": {
          "base_uri": "https://localhost:8080/",
          "height": 948
        },
        "outputId": "f932001c-507a-4cad-98e3-f911cabd4d1a"
      },
      "source": [
        "medalseason('BRA')"
      ],
      "execution_count": 74,
      "outputs": [
        {
          "output_type": "execute_result",
          "data": {
            "text/html": [
              "<div>\n",
              "<style scoped>\n",
              "    .dataframe tbody tr th:only-of-type {\n",
              "        vertical-align: middle;\n",
              "    }\n",
              "\n",
              "    .dataframe tbody tr th {\n",
              "        vertical-align: top;\n",
              "    }\n",
              "\n",
              "    .dataframe thead th {\n",
              "        text-align: right;\n",
              "    }\n",
              "</style>\n",
              "<table border=\"1\" class=\"dataframe\">\n",
              "  <thead>\n",
              "    <tr style=\"text-align: right;\">\n",
              "      <th></th>\n",
              "      <th>Year</th>\n",
              "      <th>Medals</th>\n",
              "      <th>NOC</th>\n",
              "      <th>Number</th>\n",
              "    </tr>\n",
              "  </thead>\n",
              "  <tbody>\n",
              "    <tr>\n",
              "      <th>0</th>\n",
              "      <td>1896</td>\n",
              "      <td>0</td>\n",
              "      <td>BRA</td>\n",
              "      <td>0</td>\n",
              "    </tr>\n",
              "    <tr>\n",
              "      <th>1</th>\n",
              "      <td>1900</td>\n",
              "      <td>0</td>\n",
              "      <td>BRA</td>\n",
              "      <td>1</td>\n",
              "    </tr>\n",
              "    <tr>\n",
              "      <th>2</th>\n",
              "      <td>1904</td>\n",
              "      <td>0</td>\n",
              "      <td>BRA</td>\n",
              "      <td>0</td>\n",
              "    </tr>\n",
              "    <tr>\n",
              "      <th>3</th>\n",
              "      <td>1906</td>\n",
              "      <td>0</td>\n",
              "      <td>BRA</td>\n",
              "      <td>0</td>\n",
              "    </tr>\n",
              "    <tr>\n",
              "      <th>4</th>\n",
              "      <td>1908</td>\n",
              "      <td>0</td>\n",
              "      <td>BRA</td>\n",
              "      <td>0</td>\n",
              "    </tr>\n",
              "    <tr>\n",
              "      <th>5</th>\n",
              "      <td>1912</td>\n",
              "      <td>0</td>\n",
              "      <td>BRA</td>\n",
              "      <td>0</td>\n",
              "    </tr>\n",
              "    <tr>\n",
              "      <th>6</th>\n",
              "      <td>1920</td>\n",
              "      <td>3</td>\n",
              "      <td>BRA</td>\n",
              "      <td>19</td>\n",
              "    </tr>\n",
              "    <tr>\n",
              "      <th>7</th>\n",
              "      <td>1924</td>\n",
              "      <td>0</td>\n",
              "      <td>BRA</td>\n",
              "      <td>12</td>\n",
              "    </tr>\n",
              "    <tr>\n",
              "      <th>8</th>\n",
              "      <td>1928</td>\n",
              "      <td>0</td>\n",
              "      <td>BRA</td>\n",
              "      <td>0</td>\n",
              "    </tr>\n",
              "    <tr>\n",
              "      <th>9</th>\n",
              "      <td>1932</td>\n",
              "      <td>0</td>\n",
              "      <td>BRA</td>\n",
              "      <td>59</td>\n",
              "    </tr>\n",
              "    <tr>\n",
              "      <th>10</th>\n",
              "      <td>1936</td>\n",
              "      <td>0</td>\n",
              "      <td>BRA</td>\n",
              "      <td>73</td>\n",
              "    </tr>\n",
              "    <tr>\n",
              "      <th>11</th>\n",
              "      <td>1948</td>\n",
              "      <td>1</td>\n",
              "      <td>BRA</td>\n",
              "      <td>70</td>\n",
              "    </tr>\n",
              "    <tr>\n",
              "      <th>12</th>\n",
              "      <td>1952</td>\n",
              "      <td>3</td>\n",
              "      <td>BRA</td>\n",
              "      <td>97</td>\n",
              "    </tr>\n",
              "    <tr>\n",
              "      <th>13</th>\n",
              "      <td>1956</td>\n",
              "      <td>1</td>\n",
              "      <td>BRA</td>\n",
              "      <td>47</td>\n",
              "    </tr>\n",
              "    <tr>\n",
              "      <th>14</th>\n",
              "      <td>1960</td>\n",
              "      <td>2</td>\n",
              "      <td>BRA</td>\n",
              "      <td>72</td>\n",
              "    </tr>\n",
              "    <tr>\n",
              "      <th>15</th>\n",
              "      <td>1964</td>\n",
              "      <td>1</td>\n",
              "      <td>BRA</td>\n",
              "      <td>61</td>\n",
              "    </tr>\n",
              "    <tr>\n",
              "      <th>16</th>\n",
              "      <td>1968</td>\n",
              "      <td>3</td>\n",
              "      <td>BRA</td>\n",
              "      <td>76</td>\n",
              "    </tr>\n",
              "    <tr>\n",
              "      <th>17</th>\n",
              "      <td>1972</td>\n",
              "      <td>2</td>\n",
              "      <td>BRA</td>\n",
              "      <td>81</td>\n",
              "    </tr>\n",
              "    <tr>\n",
              "      <th>18</th>\n",
              "      <td>1976</td>\n",
              "      <td>2</td>\n",
              "      <td>BRA</td>\n",
              "      <td>79</td>\n",
              "    </tr>\n",
              "    <tr>\n",
              "      <th>19</th>\n",
              "      <td>1980</td>\n",
              "      <td>4</td>\n",
              "      <td>BRA</td>\n",
              "      <td>106</td>\n",
              "    </tr>\n",
              "    <tr>\n",
              "      <th>20</th>\n",
              "      <td>1984</td>\n",
              "      <td>8</td>\n",
              "      <td>BRA</td>\n",
              "      <td>147</td>\n",
              "    </tr>\n",
              "    <tr>\n",
              "      <th>21</th>\n",
              "      <td>1988</td>\n",
              "      <td>6</td>\n",
              "      <td>BRA</td>\n",
              "      <td>160</td>\n",
              "    </tr>\n",
              "    <tr>\n",
              "      <th>22</th>\n",
              "      <td>1992</td>\n",
              "      <td>3</td>\n",
              "      <td>BRA</td>\n",
              "      <td>182</td>\n",
              "    </tr>\n",
              "    <tr>\n",
              "      <th>23</th>\n",
              "      <td>1996</td>\n",
              "      <td>15</td>\n",
              "      <td>BRA</td>\n",
              "      <td>221</td>\n",
              "    </tr>\n",
              "    <tr>\n",
              "      <th>24</th>\n",
              "      <td>2000</td>\n",
              "      <td>12</td>\n",
              "      <td>BRA</td>\n",
              "      <td>198</td>\n",
              "    </tr>\n",
              "    <tr>\n",
              "      <th>25</th>\n",
              "      <td>2004</td>\n",
              "      <td>10</td>\n",
              "      <td>BRA</td>\n",
              "      <td>243</td>\n",
              "    </tr>\n",
              "    <tr>\n",
              "      <th>26</th>\n",
              "      <td>2008</td>\n",
              "      <td>16</td>\n",
              "      <td>BRA</td>\n",
              "      <td>268</td>\n",
              "    </tr>\n",
              "    <tr>\n",
              "      <th>27</th>\n",
              "      <td>2012</td>\n",
              "      <td>17</td>\n",
              "      <td>BRA</td>\n",
              "      <td>248</td>\n",
              "    </tr>\n",
              "    <tr>\n",
              "      <th>28</th>\n",
              "      <td>2016</td>\n",
              "      <td>19</td>\n",
              "      <td>BRA</td>\n",
              "      <td>462</td>\n",
              "    </tr>\n",
              "  </tbody>\n",
              "</table>\n",
              "</div>"
            ],
            "text/plain": [
              "    Year  Medals  NOC  Number\n",
              "0   1896       0  BRA       0\n",
              "1   1900       0  BRA       1\n",
              "2   1904       0  BRA       0\n",
              "3   1906       0  BRA       0\n",
              "4   1908       0  BRA       0\n",
              "5   1912       0  BRA       0\n",
              "6   1920       3  BRA      19\n",
              "7   1924       0  BRA      12\n",
              "8   1928       0  BRA       0\n",
              "9   1932       0  BRA      59\n",
              "10  1936       0  BRA      73\n",
              "11  1948       1  BRA      70\n",
              "12  1952       3  BRA      97\n",
              "13  1956       1  BRA      47\n",
              "14  1960       2  BRA      72\n",
              "15  1964       1  BRA      61\n",
              "16  1968       3  BRA      76\n",
              "17  1972       2  BRA      81\n",
              "18  1976       2  BRA      79\n",
              "19  1980       4  BRA     106\n",
              "20  1984       8  BRA     147\n",
              "21  1988       6  BRA     160\n",
              "22  1992       3  BRA     182\n",
              "23  1996      15  BRA     221\n",
              "24  2000      12  BRA     198\n",
              "25  2004      10  BRA     243\n",
              "26  2008      16  BRA     268\n",
              "27  2012      17  BRA     248\n",
              "28  2016      19  BRA     462"
            ]
          },
          "metadata": {
            "tags": []
          },
          "execution_count": 74
        }
      ]
    },
    {
      "cell_type": "markdown",
      "metadata": {
        "id": "FTCjXCAhb2i5",
        "colab_type": "text"
      },
      "source": [
        "Temos a lista então das 10 "
      ]
    },
    {
      "cell_type": "code",
      "metadata": {
        "id": "LzIuR0E4a9dK",
        "colab_type": "code",
        "colab": {
          "base_uri": "https://localhost:8080/",
          "height": 221
        },
        "outputId": "029b9f31-e6a9-4a58-e3cd-390d6671f579"
      },
      "source": [
        "tabelasea.groupby(['NOC'])['Medals'].apply(lambda x : x.astype('float').sum()).sort_values(ascending = False)[:10]\n"
      ],
      "execution_count": 75,
      "outputs": [
        {
          "output_type": "execute_result",
          "data": {
            "text/plain": [
              "NOC\n",
              "USA    2544.0\n",
              "RUS    1465.0\n",
              "GBR     892.0\n",
              "GER     776.0\n",
              "FRA     770.0\n",
              "ITA     608.0\n",
              "CHN     542.0\n",
              "SWE     513.0\n",
              "AUS     506.0\n",
              "HUN     504.0\n",
              "Name: Medals, dtype: float64"
            ]
          },
          "metadata": {
            "tags": []
          },
          "execution_count": 75
        }
      ]
    },
    {
      "cell_type": "code",
      "metadata": {
        "id": "bPcZnAZwZyCw",
        "colab_type": "code",
        "colab": {
          "base_uri": "https://localhost:8080/",
          "height": 323
        },
        "outputId": "fe848377-23a1-430b-a12f-5a5ab2ceaf90"
      },
      "source": [
        "noc = ['AUS','CHN','FRA','GBR','GER','HUN','ITA','RUS','SWE','USA']\n",
        "plt.figure(figsize = (22,8))\n",
        "for i in noc:\n",
        "  teste0 = tabelacum[tabelacum['NOC']==i]\n",
        "  teste1 = teste0.set_index(['Year'])\n",
        "  teste2 = teste1[['Medals']]\n",
        "  plt.plot(teste2 , label = i)\n",
        "  plt.legend()"
      ],
      "execution_count": 80,
      "outputs": [
        {
          "output_type": "display_data",
          "data": {
            "image/png": "[encoded data removed]",
            "text/plain": [
              "<Figure size 1584x576 with 1 Axes>"
            ]
          },
          "metadata": {
            "tags": [],
            "needs_background": "light"
          }
        }
      ]
    },
    {
      "cell_type": "code",
      "metadata": {
        "id": "HVFQkZn3ouaq",
        "colab_type": "code",
        "colab": {}
      },
      "source": [
        ""
      ],
      "execution_count": 0,
      "outputs": []
    }
  ]
}